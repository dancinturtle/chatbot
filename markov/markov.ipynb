{
 "cells": [
  {
   "cell_type": "code",
   "execution_count": 1,
   "metadata": {},
   "outputs": [],
   "source": [
    "import random, re\n",
    "from collections import defaultdict"
   ]
  },
  {
   "cell_type": "code",
   "execution_count": 2,
   "metadata": {},
   "outputs": [],
   "source": [
    "class LString:\n",
    "    def __init__(self):\n",
    "        self._total = 0\n",
    "        self._successors = defaultdict(int)\n",
    "\n",
    "    def put(self, word):\n",
    "        self._successors[word] += 1\n",
    "        self._total += 1\n",
    "\n",
    "    def get_random(self):\n",
    "        ran = random.randint(0, self._total - 1)\n",
    "        for key, value in self._successors.items():\n",
    "            if ran < value:\n",
    "                return key\n",
    "            else:\n",
    "                ran -= value"
   ]
  },
  {
   "cell_type": "code",
   "execution_count": 3,
   "metadata": {},
   "outputs": [],
   "source": [
    "couple_words = defaultdict(LString)"
   ]
  },
  {
   "cell_type": "code",
   "execution_count": 4,
   "metadata": {},
   "outputs": [],
   "source": [
    "def load(phrases):\n",
    "    with open(phrases, 'r') as f:\n",
    "        for line in f:\n",
    "            add_message(line)"
   ]
  },
  {
   "cell_type": "code",
   "execution_count": 14,
   "metadata": {},
   "outputs": [],
   "source": [
    "def add_message(message):\n",
    "\n",
    "    message = re.sub(r'[^\\w\\s\\']', '', message).lower().strip()\n",
    "    words = message.split()\n",
    "\n",
    "    for i in range(2, len(words)):\n",
    "        couple_words[(words[i - 2], words[i - 1])].put(words[i])\n",
    "    couple_words[(words[-2], words[-1])].put(\"\")\n"
   ]
  },
  {
   "cell_type": "code",
   "execution_count": 12,
   "metadata": {},
   "outputs": [],
   "source": [
    "def generate():\n",
    "\n",
    "    result = []\n",
    "    while len(result) < 10 or len(result) > 20:\n",
    "\n",
    "        result = []\n",
    "        s = random.choice(list(couple_words.keys()))\n",
    "\n",
    "        result.extend(s)\n",
    "        while result[-1]:\n",
    "            w = couple_words[(result[-2], result[-1])].get_random()\n",
    "            result.append(w)\n",
    "\n",
    "    return \" \".join(result)"
   ]
  },
  {
   "cell_type": "code",
   "execution_count": 28,
   "metadata": {},
   "outputs": [
    {
     "name": "stdout",
     "output_type": "stream",
     "text": [
      "those days nickles had pictures of bumblebees on them \n"
     ]
    }
   ],
   "source": [
    "if __name__ == \"__main__\":\n",
    "    \n",
    "    load(\"sentences.txt\")\n",
    "    print(generate())"
   ]
  },
  {
   "cell_type": "code",
   "execution_count": 8,
   "metadata": {
    "scrolled": false
   },
   "outputs": [
    {
     "data": {
      "text/plain": [
       "[('is', 'this'),\n",
       " ('this', 'a'),\n",
       " ('a', 'sentence'),\n",
       " ('what', 'about'),\n",
       " ('about', 'this'),\n",
       " ('this', 'one'),\n",
       " (\"i'm\", 'confused'),\n",
       " ('somewhere', 'out'),\n",
       " ('out', 'there'),\n",
       " ('beyond', 'a'),\n",
       " ('a', 'pale'),\n",
       " ('pale', 'moon'),\n",
       " ('moon', 'light'),\n",
       " ('someone', 'is'),\n",
       " ('is', 'thinking'),\n",
       " ('thinking', 'of'),\n",
       " ('of', 'me'),\n",
       " ('and', 'loving'),\n",
       " ('loving', 'me'),\n",
       " ('me', 'tonight'),\n",
       " ('is', 'saying'),\n",
       " ('saying', 'a'),\n",
       " ('a', 'prayer'),\n",
       " ('that', \"we'll\"),\n",
       " (\"we'll\", 'find'),\n",
       " ('find', 'one'),\n",
       " ('one', 'another'),\n",
       " ('in', 'that'),\n",
       " ('that', 'big'),\n",
       " ('big', 'somewhere'),\n",
       " ('and', 'even'),\n",
       " ('even', 'though'),\n",
       " ('though', 'i'),\n",
       " ('i', 'know'),\n",
       " ('know', 'how'),\n",
       " ('how', 'very'),\n",
       " ('very', 'far'),\n",
       " ('far', 'apart'),\n",
       " ('apart', 'we'),\n",
       " ('we', 'are'),\n",
       " ('it', 'helps'),\n",
       " ('helps', 'to'),\n",
       " ('to', 'think'),\n",
       " ('think', 'we'),\n",
       " ('we', 'might'),\n",
       " ('might', 'be'),\n",
       " ('be', 'wishing'),\n",
       " ('wishing', 'on'),\n",
       " ('on', 'the'),\n",
       " ('the', 'same'),\n",
       " ('same', 'bright'),\n",
       " ('bright', 'star'),\n",
       " ('and', 'when'),\n",
       " ('when', 'the'),\n",
       " ('the', 'night'),\n",
       " ('night', 'wind'),\n",
       " ('wind', 'starts'),\n",
       " ('starts', 'to'),\n",
       " ('to', 'sing'),\n",
       " ('sing', 'a'),\n",
       " ('a', 'lonesome'),\n",
       " ('lonesome', 'lullaby'),\n",
       " ('think', \"we're\"),\n",
       " (\"we're\", 'sleeping'),\n",
       " ('sleeping', 'underneath'),\n",
       " ('underneath', 'the'),\n",
       " ('same', 'big'),\n",
       " ('big', 'sky'),\n",
       " ('give', 'me'),\n",
       " ('me', 'five'),\n",
       " ('five', 'bees'),\n",
       " ('bees', 'for'),\n",
       " ('for', 'a'),\n",
       " ('a', 'quarter'),\n",
       " ('quarter', \"you'd\"),\n",
       " (\"you'd\", 'say'),\n",
       " ('no', 'where'),\n",
       " ('where', 'was'),\n",
       " ('was', 'i'),\n",
       " ('the', 'point'),\n",
       " ('point', 'is'),\n",
       " ('is', 'to'),\n",
       " ('to', 'take'),\n",
       " ('take', 'the'),\n",
       " ('the', 'ferry'),\n",
       " ('ferry', 'cost'),\n",
       " ('cost', 'a'),\n",
       " ('a', 'nickle'),\n",
       " ('and', 'in'),\n",
       " ('in', 'those'),\n",
       " ('those', 'days'),\n",
       " ('days', 'nickles'),\n",
       " ('nickles', 'had'),\n",
       " ('had', 'pictures'),\n",
       " ('pictures', 'of'),\n",
       " ('of', 'bumblebees'),\n",
       " ('bumblebees', 'on'),\n",
       " ('on', 'them'),\n",
       " ('the', 'important'),\n",
       " ('important', 'thing'),\n",
       " ('thing', 'is'),\n",
       " ('is', 'i'),\n",
       " ('i', 'had'),\n",
       " ('had', 'an'),\n",
       " ('an', 'onion'),\n",
       " ('onion', 'on'),\n",
       " ('on', 'my'),\n",
       " ('my', 'belt'),\n",
       " ('we', \"couldn't\"),\n",
       " (\"couldn't\", 'get'),\n",
       " ('get', 'any'),\n",
       " ('any', 'white'),\n",
       " ('white', 'onions'),\n",
       " ('onions', 'because'),\n",
       " ('because', 'of'),\n",
       " ('of', 'the'),\n",
       " ('the', 'war'),\n",
       " ('all', 'you'),\n",
       " ('you', 'could'),\n",
       " ('could', 'get'),\n",
       " ('get', 'was'),\n",
       " ('was', 'those'),\n",
       " ('those', 'big'),\n",
       " ('big', 'yellow'),\n",
       " ('yellow', 'ones'),\n",
       " ('the', 'babel'),\n",
       " ('babel', 'fish'),\n",
       " ('fish', 'is'),\n",
       " ('is', 'small'),\n",
       " ('small', 'yellow'),\n",
       " ('yellow', 'and'),\n",
       " ('and', 'leech'),\n",
       " ('leech', 'like'),\n",
       " (\"it's\", 'unpleasantly'),\n",
       " ('unpleasantly', 'like'),\n",
       " ('like', 'being'),\n",
       " ('being', 'drunk')]"
      ]
     },
     "execution_count": 8,
     "metadata": {},
     "output_type": "execute_result"
    }
   ],
   "source": [
    "list(couple_words.keys())"
   ]
  },
  {
   "cell_type": "code",
   "execution_count": 9,
   "metadata": {},
   "outputs": [
    {
     "data": {
      "text/plain": [
       "defaultdict(int, {'a': 1})"
      ]
     },
     "execution_count": 9,
     "metadata": {},
     "output_type": "execute_result"
    }
   ],
   "source": [
    "list(couple_words.values())[0]._successors"
   ]
  }
 ],
 "metadata": {
  "kernelspec": {
   "display_name": "Python 3",
   "language": "python",
   "name": "python3"
  },
  "language_info": {
   "codemirror_mode": {
    "name": "ipython",
    "version": 3
   },
   "file_extension": ".py",
   "mimetype": "text/x-python",
   "name": "python",
   "nbconvert_exporter": "python",
   "pygments_lexer": "ipython3",
   "version": "3.8.5"
  }
 },
 "nbformat": 4,
 "nbformat_minor": 4
}
