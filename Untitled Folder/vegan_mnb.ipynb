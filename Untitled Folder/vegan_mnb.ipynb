{
 "cells": [
  {
   "cell_type": "code",
   "execution_count": 21,
   "id": "81224e44",
   "metadata": {},
   "outputs": [],
   "source": [
    "from newspaper import Article\n",
    "import random\n",
    "import string\n",
    "import nltk\n",
    "from sklearn.feature_extraction.text import CountVectorizer, TfidfVectorizer\n",
    "from sklearn.metrics.pairwise import cosine_similarity\n",
    "import pandas as pd\n",
    "from sklearn.pipeline import Pipeline\n",
    "from sklearn.naive_bayes import MultinomialNB\n",
    "from sklearn.model_selection import train_test_split, GridSearchCV"
   ]
  },
  {
   "cell_type": "code",
   "execution_count": 8,
   "id": "13ef4f9e",
   "metadata": {
    "scrolled": true
   },
   "outputs": [
    {
     "data": {
      "text/html": [
       "<div>\n",
       "<style scoped>\n",
       "    .dataframe tbody tr th:only-of-type {\n",
       "        vertical-align: middle;\n",
       "    }\n",
       "\n",
       "    .dataframe tbody tr th {\n",
       "        vertical-align: top;\n",
       "    }\n",
       "\n",
       "    .dataframe thead th {\n",
       "        text-align: right;\n",
       "    }\n",
       "</style>\n",
       "<table border=\"1\" class=\"dataframe\">\n",
       "  <thead>\n",
       "    <tr style=\"text-align: right;\">\n",
       "      <th></th>\n",
       "      <th>tag</th>\n",
       "      <th>text</th>\n",
       "      <th>description</th>\n",
       "      <th>url</th>\n",
       "    </tr>\n",
       "  </thead>\n",
       "  <tbody>\n",
       "    <tr>\n",
       "      <th>0</th>\n",
       "      <td>Cheese</td>\n",
       "      <td>Omnivores and ovo-lacto vegetarians alike ofte...</td>\n",
       "      <td>lesson</td>\n",
       "      <td>https://veganbootcamp.org/course-progress/599/...</td>\n",
       "    </tr>\n",
       "    <tr>\n",
       "      <th>1</th>\n",
       "      <td>Cheese</td>\n",
       "      <td>Luckily, quitting cheese is not nearly as daun...</td>\n",
       "      <td>lesson</td>\n",
       "      <td>https://veganbootcamp.org/course-progress/599/...</td>\n",
       "    </tr>\n",
       "    <tr>\n",
       "      <th>2</th>\n",
       "      <td>Cheese</td>\n",
       "      <td>When we keep the cruelty of the dairy industry...</td>\n",
       "      <td>lesson</td>\n",
       "      <td>https://veganbootcamp.org/course-progress/599/...</td>\n",
       "    </tr>\n",
       "    <tr>\n",
       "      <th>3</th>\n",
       "      <td>Cheese</td>\n",
       "      <td>The adverse health effects of dairy-based food...</td>\n",
       "      <td>lesson</td>\n",
       "      <td>https://veganbootcamp.org/course-progress/600/...</td>\n",
       "    </tr>\n",
       "    <tr>\n",
       "      <th>4</th>\n",
       "      <td>Cheese</td>\n",
       "      <td>One such study is the 2014 study \"Milk intake ...</td>\n",
       "      <td>lesson</td>\n",
       "      <td>https://veganbootcamp.org/course-progress/600/...</td>\n",
       "    </tr>\n",
       "  </tbody>\n",
       "</table>\n",
       "</div>"
      ],
      "text/plain": [
       "      tag                                               text description  \\\n",
       "0  Cheese  Omnivores and ovo-lacto vegetarians alike ofte...      lesson   \n",
       "1  Cheese  Luckily, quitting cheese is not nearly as daun...      lesson   \n",
       "2  Cheese  When we keep the cruelty of the dairy industry...      lesson   \n",
       "3  Cheese  The adverse health effects of dairy-based food...      lesson   \n",
       "4  Cheese  One such study is the 2014 study \"Milk intake ...      lesson   \n",
       "\n",
       "                                                 url  \n",
       "0  https://veganbootcamp.org/course-progress/599/...  \n",
       "1  https://veganbootcamp.org/course-progress/599/...  \n",
       "2  https://veganbootcamp.org/course-progress/599/...  \n",
       "3  https://veganbootcamp.org/course-progress/600/...  \n",
       "4  https://veganbootcamp.org/course-progress/600/...  "
      ]
     },
     "execution_count": 8,
     "metadata": {},
     "output_type": "execute_result"
    }
   ],
   "source": [
    "cheese = pd.read_json('../json_data/Cheese_data.json')\n",
    "cheese.head()\n",
    "# cheese.tail()"
   ]
  },
  {
   "cell_type": "code",
   "execution_count": 13,
   "id": "cb385b5e",
   "metadata": {
    "scrolled": true
   },
   "outputs": [
    {
     "data": {
      "text/plain": [
       "(97, 4)"
      ]
     },
     "execution_count": 13,
     "metadata": {},
     "output_type": "execute_result"
    }
   ],
   "source": [
    "dairy = pd.read_json('../json_data/Dairy_Milk_data.json')\n",
    "dairy.shape"
   ]
  },
  {
   "cell_type": "code",
   "execution_count": 31,
   "id": "b9b2fc3e",
   "metadata": {},
   "outputs": [
    {
     "data": {
      "text/plain": [
       "(43, 4)"
      ]
     },
     "execution_count": 31,
     "metadata": {},
     "output_type": "execute_result"
    }
   ],
   "source": [
    "fish = pd.read_json('../json_data/Fish_data.json')\n",
    "fish.shape"
   ]
  },
  {
   "cell_type": "code",
   "execution_count": 12,
   "id": "6c82534c",
   "metadata": {},
   "outputs": [
    {
     "data": {
      "text/plain": [
       "(124, 4)"
      ]
     },
     "execution_count": 12,
     "metadata": {},
     "output_type": "execute_result"
    }
   ],
   "source": [
    "ch_dairy = cheese.append(dairy)\n",
    "ch_dairy.tail()\n",
    "ch_dairy.shape"
   ]
  },
  {
   "cell_type": "code",
   "execution_count": 32,
   "id": "2b2c5d2b",
   "metadata": {},
   "outputs": [],
   "source": [
    "cdf = ch_dairy.append(fish)"
   ]
  },
  {
   "cell_type": "code",
   "execution_count": null,
   "id": "c0c7653d",
   "metadata": {},
   "outputs": [],
   "source": [
    "def "
   ]
  },
  {
   "cell_type": "code",
   "execution_count": 14,
   "id": "0bbc0b20",
   "metadata": {},
   "outputs": [
    {
     "data": {
      "text/html": [
       "<div>\n",
       "<style scoped>\n",
       "    .dataframe tbody tr th:only-of-type {\n",
       "        vertical-align: middle;\n",
       "    }\n",
       "\n",
       "    .dataframe tbody tr th {\n",
       "        vertical-align: top;\n",
       "    }\n",
       "\n",
       "    .dataframe thead th {\n",
       "        text-align: right;\n",
       "    }\n",
       "</style>\n",
       "<table border=\"1\" class=\"dataframe\">\n",
       "  <thead>\n",
       "    <tr style=\"text-align: right;\">\n",
       "      <th></th>\n",
       "      <th>tag</th>\n",
       "      <th>text</th>\n",
       "      <th>description</th>\n",
       "      <th>url</th>\n",
       "      <th>label</th>\n",
       "    </tr>\n",
       "  </thead>\n",
       "  <tbody>\n",
       "    <tr>\n",
       "      <th>92</th>\n",
       "      <td>Dairy Milk</td>\n",
       "      <td>Almond milk requires more water to produce tha...</td>\n",
       "      <td>lesson</td>\n",
       "      <td>https://veganbootcamp.org/course-progress/502/...</td>\n",
       "      <td>0</td>\n",
       "    </tr>\n",
       "    <tr>\n",
       "      <th>93</th>\n",
       "      <td>Dairy Milk</td>\n",
       "      <td>People tend to underestimate the greenhouse ga...</td>\n",
       "      <td>lesson</td>\n",
       "      <td>https://veganbootcamp.org/course-progress/502/...</td>\n",
       "      <td>0</td>\n",
       "    </tr>\n",
       "    <tr>\n",
       "      <th>94</th>\n",
       "      <td>Dairy Milk</td>\n",
       "      <td>However, this information spurs more questions...</td>\n",
       "      <td>lesson</td>\n",
       "      <td>https://veganbootcamp.org/course-progress/502/...</td>\n",
       "      <td>0</td>\n",
       "    </tr>\n",
       "    <tr>\n",
       "      <th>95</th>\n",
       "      <td>Dairy Milk</td>\n",
       "      <td>Find more cute videos and gif's of happy cows ...</td>\n",
       "      <td>lesson</td>\n",
       "      <td>https://veganbootcamp.org/course-progress/704/...</td>\n",
       "      <td>0</td>\n",
       "    </tr>\n",
       "    <tr>\n",
       "      <th>96</th>\n",
       "      <td>Dairy Milk</td>\n",
       "      <td>Learn more about Erin Janus by clicking here!</td>\n",
       "      <td>lesson</td>\n",
       "      <td>https://veganbootcamp.org/course-progress/703/...</td>\n",
       "      <td>0</td>\n",
       "    </tr>\n",
       "  </tbody>\n",
       "</table>\n",
       "</div>"
      ],
      "text/plain": [
       "           tag                                               text description  \\\n",
       "92  Dairy Milk  Almond milk requires more water to produce tha...      lesson   \n",
       "93  Dairy Milk  People tend to underestimate the greenhouse ga...      lesson   \n",
       "94  Dairy Milk  However, this information spurs more questions...      lesson   \n",
       "95  Dairy Milk  Find more cute videos and gif's of happy cows ...      lesson   \n",
       "96  Dairy Milk      Learn more about Erin Janus by clicking here!      lesson   \n",
       "\n",
       "                                                  url  label  \n",
       "92  https://veganbootcamp.org/course-progress/502/...      0  \n",
       "93  https://veganbootcamp.org/course-progress/502/...      0  \n",
       "94  https://veganbootcamp.org/course-progress/502/...      0  \n",
       "95  https://veganbootcamp.org/course-progress/704/...      0  \n",
       "96  https://veganbootcamp.org/course-progress/703/...      0  "
      ]
     },
     "execution_count": 14,
     "metadata": {},
     "output_type": "execute_result"
    }
   ],
   "source": [
    "ch_dairy['label'] = (ch_dairy['tag'] == 'Cheese').astype(int)\n",
    "ch_dairy.tail()"
   ]
  },
  {
   "cell_type": "code",
   "execution_count": 16,
   "id": "adb46b08",
   "metadata": {},
   "outputs": [],
   "source": [
    "X = ch_dairy['text']\n",
    "y = ch_dairy['label']"
   ]
  },
  {
   "cell_type": "code",
   "execution_count": 17,
   "id": "81ceec67",
   "metadata": {
    "scrolled": true
   },
   "outputs": [
    {
     "data": {
      "text/plain": [
       "0    0.782258\n",
       "1    0.217742\n",
       "Name: label, dtype: float64"
      ]
     },
     "execution_count": 17,
     "metadata": {},
     "output_type": "execute_result"
    }
   ],
   "source": [
    "y.value_counts(normalize=True)"
   ]
  },
  {
   "cell_type": "code",
   "execution_count": 20,
   "id": "219ed611",
   "metadata": {},
   "outputs": [],
   "source": [
    "X_train, X_test, y_train, y_test = train_test_split(X, y, test_size=0.25, stratify=y, random_state=42)"
   ]
  },
  {
   "cell_type": "code",
   "execution_count": 24,
   "id": "392faf2f",
   "metadata": {},
   "outputs": [],
   "source": [
    "cvec = CountVectorizer(stop_words='english')\n",
    "Xcv_train = cvec.fit_transform(X_train)\n",
    "Xcv_test = cvec.transform(X_test)"
   ]
  },
  {
   "cell_type": "code",
   "execution_count": null,
   "id": "f0c030c4",
   "metadata": {},
   "outputs": [],
   "source": []
  },
  {
   "cell_type": "code",
   "execution_count": 30,
   "id": "ae0c1fb1",
   "metadata": {
    "scrolled": true
   },
   "outputs": [
    {
     "data": {
      "text/plain": [
       "['addition',\n",
       " 'adds',\n",
       " 'adolescents',\n",
       " 'adrian',\n",
       " 'adult',\n",
       " 'adults',\n",
       " 'adverse',\n",
       " 'aerial',\n",
       " 'aetiological',\n",
       " 'affect']"
      ]
     },
     "execution_count": 30,
     "metadata": {},
     "output_type": "execute_result"
    }
   ],
   "source": [
    "cvec.get_feature_names()[45:55]"
   ]
  },
  {
   "cell_type": "code",
   "execution_count": 26,
   "id": "587dd164",
   "metadata": {},
   "outputs": [],
   "source": [
    "mnb = MultinomialNB()"
   ]
  },
  {
   "cell_type": "code",
   "execution_count": 27,
   "id": "6ea30f7b",
   "metadata": {
    "scrolled": true
   },
   "outputs": [
    {
     "data": {
      "text/plain": [
       "MultinomialNB()"
      ]
     },
     "execution_count": 27,
     "metadata": {},
     "output_type": "execute_result"
    }
   ],
   "source": [
    "mnb.fit(Xcv_train, y_train)"
   ]
  },
  {
   "cell_type": "code",
   "execution_count": 28,
   "id": "069447b8",
   "metadata": {},
   "outputs": [
    {
     "data": {
      "text/plain": [
       "(0.989247311827957, 0.9354838709677419)"
      ]
     },
     "execution_count": 28,
     "metadata": {},
     "output_type": "execute_result"
    }
   ],
   "source": [
    "mnb.score(Xcv_train, y_train), mnb.score(Xcv_test, y_test)"
   ]
  }
 ],
 "metadata": {
  "kernelspec": {
   "display_name": "Python 3",
   "language": "python",
   "name": "python3"
  },
  "language_info": {
   "codemirror_mode": {
    "name": "ipython",
    "version": 3
   },
   "file_extension": ".py",
   "mimetype": "text/x-python",
   "name": "python",
   "nbconvert_exporter": "python",
   "pygments_lexer": "ipython3",
   "version": "3.6.13"
  }
 },
 "nbformat": 4,
 "nbformat_minor": 5
}
