{
 "cells": [
  {
   "cell_type": "code",
   "execution_count": 2,
   "metadata": {},
   "outputs": [],
   "source": [
    "import pandas as pd\n",
    "import requests\n",
    "from bs4 import BeautifulSoup"
   ]
  },
  {
   "cell_type": "code",
   "execution_count": 39,
   "metadata": {},
   "outputs": [
    {
     "data": {
      "text/plain": [
       "<Response [200]>"
      ]
     },
     "execution_count": 39,
     "metadata": {},
     "output_type": "execute_result"
    }
   ],
   "source": [
    "url = 'https://veganbootcamp.org/course-progress/497/overview-of-dairy'\n",
    "headers = {\n",
    "    'authority': 'veganbootcamp.org',\n",
    "    'cache-control': 'max-age=0',\n",
    "    'sec-ch-ua': '\" Not A;Brand\";v=\"99\", \"Chromium\";v=\"90\", \"Google Chrome\";v=\"90\"',\n",
    "    'sec-ch-ua-mobile': '?0',\n",
    "    'upgrade-insecure-requests': '1',\n",
    "    'user-agent': 'Mozilla/5.0 (Macintosh; Intel Mac OS X 10_14_6) AppleWebKit/537.36 (KHTML, like Gecko) Chrome/90.0.4430.212 Safari/537.36',\n",
    "    'accept': 'text/html,application/xhtml+xml,application/xml;q=0.9,image/avif,image/webp,image/apng,*/*;q=0.8,application/signed-exchange;v=b3;q=0.9',\n",
    "    'sec-fetch-site': 'same-origin',\n",
    "    'sec-fetch-mode': 'navigate',\n",
    "    'sec-fetch-user': '?1',\n",
    "    'sec-fetch-dest': 'document',\n",
    "    'referer': 'https://veganbootcamp.org/',\n",
    "    'accept-language': 'en-US,en;q=0.9,es;q=0.8',\n",
    "    'cookie': 'vbcommunity_k=; googtrans=/en/en; _ga=GA1.2.1818705141.1621926329; _gid=GA1.2.62458892.1621926329; _fbp=fb.1.1622009394616.990287943; vbcommunity_u=4947; vbcommunity_sid=fd2aca555112f263fff8715d07b9262e; XSRF-TOKEN=eyJpdiI6IkdaRk5rSlV3NGlPeDhHcTJoZGZmMWc9PSIsInZhbHVlIjoiUWxTU2ZyZUJpeUNVbk4zczVkbEJLM1lsbk42N2dTODN1aTBCTGJxQ0xFMmROa2s2UDRKSHZ3Q1NQMjkrOWdYZSIsIm1hYyI6ImFkMGFhN2NjMzQ4MDQ4ZWQ2MmM3NzQ0NThlYWViMGNmZjE3ZmRmZTRkMzcxNGM5OTQ3NzU2NmEwOWQwOGRjMTUifQ%3D%3D; vegan_bootcamp_session=eyJpdiI6Ik1UKzF0QnRrWUtaZHF3d2VrdWY1c2c9PSIsInZhbHVlIjoibnhhcVRSRjlpQzFKNlhtcjVhNDdXV0FlVy96aHc2NWdYY3NmcnJwVk5HeGRKKzE0dWx2bnFQOVA1MEN0OWtaWCIsIm1hYyI6ImQ5YTM3NmRhMmU0YjNjNWQyMzkxMzgxN2I4ODRiNmMyZGEyNzU4ZDA0MjAyMzQwYjZmMTZhOWYzOWExYjgzNWIifQ%3D%3D',\n",
    "}\n",
    "\n",
    "response = requests.get(url, headers=headers)\n",
    "response"
   ]
  },
  {
   "cell_type": "code",
   "execution_count": 40,
   "metadata": {},
   "outputs": [],
   "source": [
    "soup = BeautifulSoup(response.content, 'lxml')"
   ]
  },
  {
   "cell_type": "code",
   "execution_count": 41,
   "metadata": {},
   "outputs": [
    {
     "data": {
      "text/plain": [
       "'Dairy Milk'"
      ]
     },
     "execution_count": 41,
     "metadata": {},
     "output_type": "execute_result"
    }
   ],
   "source": [
    "tag = soup.find('b')\n",
    "tag = tag.text\n",
    "tag"
   ]
  },
  {
   "cell_type": "code",
   "execution_count": 44,
   "metadata": {},
   "outputs": [],
   "source": [
    "course_info = soup.find(\"div\", {\"class\": \"gutenberg__content\"})\n",
    "documents = []\n",
    "for p in course_info.find_all('p'):\n",
    "    doc = {}\n",
    "    doc['tag'] = tag\n",
    "    doc['text'] = p.text\n",
    "    doc['description'] = 'lesson'\n",
    "    doc['url'] = url\n",
    "    documents.append(doc)"
   ]
  },
  {
   "cell_type": "code",
   "execution_count": 50,
   "metadata": {},
   "outputs": [],
   "source": [
    "for quote in course_info.find_all('blockquote'):\n",
    "    doc = {}\n",
    "    doc['tag'] = tag\n",
    "    doc['text'] = quote.text\n",
    "    doc['description'] = 'quote'\n",
    "    doc['url'] = url\n",
    "    documents.append(doc)"
   ]
  },
  {
   "cell_type": "code",
   "execution_count": 53,
   "metadata": {
    "scrolled": true
   },
   "outputs": [],
   "source": [
    "df = pd.DataFrame(documents).tail()"
   ]
  },
  {
   "cell_type": "code",
   "execution_count": 54,
   "metadata": {},
   "outputs": [],
   "source": [
    "df.to_json('data.json')"
   ]
  }
 ],
 "metadata": {
  "kernelspec": {
   "display_name": "Python 3",
   "language": "python",
   "name": "python3"
  },
  "language_info": {
   "codemirror_mode": {
    "name": "ipython",
    "version": 3
   },
   "file_extension": ".py",
   "mimetype": "text/x-python",
   "name": "python",
   "nbconvert_exporter": "python",
   "pygments_lexer": "ipython3",
   "version": "3.8.5"
  }
 },
 "nbformat": 4,
 "nbformat_minor": 4
}
